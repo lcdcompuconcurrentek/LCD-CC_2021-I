{
 "metadata": {
  "language_info": {
   "codemirror_mode": {
    "name": "ipython",
    "version": 3
   },
   "file_extension": ".py",
   "mimetype": "text/x-python",
   "name": "python",
   "nbconvert_exporter": "python",
   "pygments_lexer": "ipython3",
   "version": "3.8.3-final"
  },
  "orig_nbformat": 2,
  "kernelspec": {
   "name": "Python 3.8.3 64-bit ('base': conda)",
   "display_name": "Python 3.8.3 64-bit ('base': conda)",
   "metadata": {
    "interpreter": {
     "hash": "5ab2ca32b1644cf9031fae95651bc8683daac2ca27055303d5bb524a74dd39dd"
    }
   }
  }
 },
 "nbformat": 4,
 "nbformat_minor": 2,
 "cells": [
  {
   "cell_type": "code",
   "execution_count": 1,
   "metadata": {},
   "outputs": [],
   "source": [
    "import multiprocessing as mp \n",
    "import time"
   ]
  },
  {
   "cell_type": "code",
   "execution_count": 4,
   "metadata": {},
   "outputs": [],
   "source": [
    "def calc_cuad(numeros, result):\n",
    "    for idx, n in enumerate(numeros):\n",
    "        result[idx]=n*n\n",
    "    print(\"Resultado del proceso:\", result[:])\n",
    "\n",
    "nums=range(10)\n",
    "t=time.time()\n",
    "\n",
    "result=mp.Array('i',10)"
   ]
  },
  {
   "source": [
    "# Pipes\n",
    "\n",
    "Los pipes o tuberias representan una forma de pasar informacion. Los tipos de pipes pueden ser anonimos o con nombre. Los pipes anonimos son metodos de comunicacion simple del tipo FIFO, son ultilizados para la comunicacion interproceso y solo transmiten en una sola direccion a la vez; para una comunicacion bidireccional (duplex) se requierem dos pipes anonimos. Los pipes con nombre son identicos a los anonimos con la diferencia que duraran siempre y cuando el sistema operativo tenga activos pipes anonimos."
   ],
   "cell_type": "markdown",
   "metadata": {}
  },
  {
   "cell_type": "code",
   "execution_count": 1,
   "metadata": {},
   "outputs": [
    {
     "output_type": "stream",
     "name": "stdout",
     "text": [
      "['hello world']\n"
     ]
    }
   ],
   "source": [
    "from multiprocessing import Process, Pipe\n",
    "\n",
    "def f(conn):\n",
    "    conn.send(['hello world'])\n",
    "    conn.close\n",
    "\n",
    "if __name__ =='__main__':\n",
    "    parent_conn, child_conn =Pipe()\n",
    "    p=Process(target=f,args=(child_conn,))\n",
    "    p.start()\n",
    "    print(parent_conn.recv())\n",
    "    p.join()"
   ]
  },
  {
   "source": [
    "## Ejercicio 1"
   ],
   "cell_type": "markdown",
   "metadata": {}
  },
  {
   "cell_type": "code",
   "execution_count": 7,
   "metadata": {},
   "outputs": [
    {
     "output_type": "stream",
     "name": "stdout",
     "text": [
      "['hello']\n['world']\n"
     ]
    }
   ],
   "source": [
    "from multiprocessing import Process, Pipe\n",
    "\n",
    "def funcion1(conn):\n",
    "    conn.send(['hello'])\n",
    "    conn.close\n",
    "\n",
    "def funcion2(conn):\n",
    "    conn.send(['world'])\n",
    "    conn.close\n",
    "\n",
    "if __name__ =='__main__':\n",
    "    parent_conn, child_conn =Pipe()\n",
    "    p1=Process(target=funcion1,args=(child_conn,))\n",
    "    p2=Process(target=funcion2,args=(child_conn,))\n",
    "    p1.start()\n",
    "    p2.start()\n",
    "    print(parent_conn.recv())\n",
    "    print(parent_conn.recv())\n",
    "    p1.join()\n",
    "    p2.join()\n",
    "    "
   ]
  },
  {
   "cell_type": "code",
   "execution_count": 5,
   "metadata": {},
   "outputs": [
    {
     "output_type": "stream",
     "name": "stdout",
     "text": [
      "sent from main process\n",
      "sent from child process\n"
     ]
    }
   ],
   "source": [
    "from multiprocessing import Process, Pipe\n",
    "\n",
    "def worker(conn):\n",
    "    print(conn.recv())\n",
    "    conn.send(\"sent from child process\")\n",
    "    conn.close()\n",
    "\n",
    "conn1, conn2 = Pipe()\n",
    "process=Process(target=worker,args=(conn2,))\n",
    "process.start()\n",
    "\n",
    "conn1.send(\"sent from main process\")\n",
    "print(conn1.recv())\n",
    "process.join()"
   ]
  },
  {
   "source": [
    "## Ejercicio 2"
   ],
   "cell_type": "markdown",
   "metadata": {}
  },
  {
   "cell_type": "code",
   "execution_count": 6,
   "metadata": {},
   "outputs": [
    {
     "output_type": "stream",
     "name": "stdout",
     "text": [
      "sent from main processsent from main process\n",
      "\n",
      "['hello']\n",
      "['world']\n"
     ]
    }
   ],
   "source": [
    "from multiprocessing import Process, Pipe\n",
    "\n",
    "def funcion1(conn):\n",
    "    print(conn.recv())\n",
    "    conn.send(['hello'])\n",
    "    conn.close()\n",
    "\n",
    "def funcion2(conn):\n",
    "    print(conn.recv())\n",
    "    conn.send(['world'])\n",
    "    conn.close()\n",
    "\n",
    "if __name__ =='__main__':\n",
    "    parent_conn, child_conn =Pipe()\n",
    "    p1=Process(target=funcion1,args=(child_conn,))\n",
    "    p2=Process(target=funcion2,args=(child_conn,))\n",
    "    p1.start()\n",
    "    p2.start()\n",
    "    parent_conn.send(\"sent from main process\")\n",
    "    parent_conn.send(\"sent from main process\")\n",
    "    print(parent_conn.recv())\n",
    "    print(parent_conn.recv())    \n",
    "    parent_conn.close()\n",
    "    p1.join()\n",
    "    p2.join()"
   ]
  },
  {
   "cell_type": "code",
   "execution_count": 7,
   "metadata": {},
   "outputs": [
    {
     "output_type": "stream",
     "name": "stdout",
     "text": [
      "Carlos\n",
      "Renata\n",
      "Rebeca\n",
      "Sandra\n"
     ]
    }
   ],
   "source": [
    "nombres = [\"Carlos\",\"Renata\", \"Rebeca\",\"Sandra\",\"END\"]\n",
    "\n",
    "def send_msgs(conn,msgs):\n",
    "    for msg in msgs:\n",
    "        conn.send(msg)\n",
    "    conn.close()\n",
    "def recv_msgs(conn):\n",
    "    while 1:\n",
    "        msg=conn.recv()\n",
    "        if msg == \"END\":\n",
    "            break \n",
    "        print(msg)\n",
    "\n",
    "conn1, conn2 = Pipe()\n",
    "p1=Process(target=send_msgs,args=(conn1,nombres))\n",
    "p2=Process(target=recv_msgs,args=(conn2,))\n",
    "\n",
    "p1.start()\n",
    "p2.start()\n",
    "\n",
    "p1.join()\n",
    "p2.join()"
   ]
  },
  {
   "source": [
    "# Pipe os"
   ],
   "cell_type": "markdown",
   "metadata": {}
  },
  {
   "cell_type": "code",
   "execution_count": 8,
   "metadata": {},
   "outputs": [
    {
     "output_type": "error",
     "ename": "SyntaxError",
     "evalue": "invalid syntax (<ipython-input-8-2096b63928e3>, line 10)",
     "traceback": [
      "\u001b[0;36m  File \u001b[0;32m\"<ipython-input-8-2096b63928e3>\"\u001b[0;36m, line \u001b[0;32m10\u001b[0m\n\u001b[0;31m    def run(self)\u001b[0m\n\u001b[0m                 ^\u001b[0m\n\u001b[0;31mSyntaxError\u001b[0m\u001b[0;31m:\u001b[0m invalid syntax\n"
     ]
    }
   ],
   "source": [
    "import os, sys\n",
    "import multiprocessing\n",
    "\n",
    "class ChildProcess(multiprocessing.Process):\n",
    "\n",
    "    def __init__(self,pipein):\n",
    "        super(ChildProcess,self).__init__()\n",
    "        self.pipein=pipein\n",
    "\n",
    "    def run(self)"
   ]
  },
  {
   "source": [
    "# Colas \n",
    "La clase queue del modulo multiprocesing facilita la implementacion de una cola FIFO para procesos como para subprocesos. Cualquier objeto de Python se puede paar a traves de un objeto queue. "
   ],
   "cell_type": "markdown",
   "metadata": {}
  },
  {
   "cell_type": "code",
   "execution_count": 9,
   "metadata": {},
   "outputs": [
    {
     "output_type": "stream",
     "name": "stdout",
     "text": [
      "[42, None, 'hello']\n"
     ]
    }
   ],
   "source": [
    "from multiprocessing import Queue\n",
    "\n",
    "def f(q):\n",
    "    q.put([42,None,'hello'])\n",
    "\n",
    "if __name__ == '__main__':\n",
    "    q=Queue()\n",
    "    p=Process(target=f, args=(q,))\n",
    "    p.start()\n",
    "    \n",
    "    p.join()\n",
    "    print(q.get())"
   ]
  },
  {
   "cell_type": "code",
   "execution_count": 10,
   "metadata": {},
   "outputs": [
    {
     "output_type": "stream",
     "name": "stdout",
     "text": [
      "0\n1\n4\n9\n16\n25\n36\n49\n64\n81\n"
     ]
    }
   ],
   "source": [
    "def calc_cuad(numeros, q):\n",
    "    for n in numeros:\n",
    "        q.put(n*n)\n",
    "if __name__ == '__main__':\n",
    "    nums=range(10)\n",
    "    q=Queue()\n",
    "    p=Process(target=calc_cuad, args=(nums,q))\n",
    "    p.start()\n",
    "    p.join()\n",
    "while not q.empty():\n",
    "    print(q.get())\n"
   ]
  },
  {
   "cell_type": "code",
   "execution_count": 11,
   "metadata": {},
   "outputs": [
    {
     "output_type": "stream",
     "name": "stdout",
     "text": [
      "Starting process Process-8 for number 1...\n",
      "Done.\n"
     ]
    }
   ],
   "source": [
    "import multiprocessing\n",
    "\n",
    "class MyWorker():\n",
    "    def __init__(self,x):\n",
    "        self.x=x\n",
    "    def process(self):\n",
    "        pname=multiprocessing.current_process().name\n",
    "        print('Starting process %s for number %i...'%(pname,self.x))\n",
    "def work(q):\n",
    "    worker = q.get()\n",
    "    worker.process()\n",
    "\n",
    "if __name__ == '__main__':\n",
    "    my_queue=multiprocessing.Queue()\n",
    "    p=multiprocessing.Process(target=work,args=(my_queue,))\n",
    "    p.start()\n",
    "\n",
    "    my_queue.put(MyWorker(1))\n",
    "\n",
    "    my_queue.close()\n",
    "    my_queue.join_thread()\n",
    "    p.join()\n",
    "\n",
    "    print('Done.')\n"
   ]
  },
  {
   "source": [
    "# Bloqueo\n",
    "\n",
    "Existen recursos los cuales no se deben acceder al mismo tiempo por dos procesos o mas; por lo que es necesario proteger o bloquear el acceso a estos recursos compartidos: memoria, archivos, bases de datos."
   ],
   "cell_type": "markdown",
   "metadata": {}
  },
  {
   "cell_type": "code",
   "execution_count": 42,
   "metadata": {},
   "outputs": [
    {
     "output_type": "stream",
     "name": "stdout",
     "text": [
      "200\n"
     ]
    }
   ],
   "source": [
    "import time\n",
    "import multiprocessing\n",
    "\n",
    "def deposit(balance):\n",
    "    for i in range(100):\n",
    "        time.sleep(0.01)\n",
    "        balance.value=balance.value + 1\n",
    "def withdraw(balance):\n",
    "    for i in range(100):\n",
    "        time.sleep(0.01)\n",
    "        balance.value=balance.value - 1\n",
    "\n",
    "if __name__ == '__main__':\n",
    "    balance = multiprocessing.Value('i',200)\n",
    "    d=multiprocessing.Process(target=deposit, args=(balance,))\n",
    "    w=multiprocessing.Process(target=withdraw, args=(balance,))\n",
    "    d.start()\n",
    "    w.start()\n",
    "    d.join()\n",
    "    w.join()\n",
    "    print(balance.value)"
   ]
  },
  {
   "cell_type": "code",
   "execution_count": 44,
   "metadata": {},
   "outputs": [
    {
     "output_type": "stream",
     "name": "stdout",
     "text": [
      "200\n"
     ]
    }
   ],
   "source": [
    "import time\n",
    "import multiprocessing\n",
    "\n",
    "def deposit(balance,lock):\n",
    "    for i in range(100):\n",
    "        time.sleep(0.01)\n",
    "        lock.acquire()\n",
    "        balance.value=balance.value + 1\n",
    "        lock.release()\n",
    "def withdraw(balance,lock):\n",
    "    for i in range(100):\n",
    "        time.sleep(0.01)\n",
    "        lock.acquire()\n",
    "        balance.value=balance.value - 1\n",
    "        lock.release()\n",
    "if __name__ == '__main__':\n",
    "    balance = multiprocessing.Value('i',200)\n",
    "    lock = multiprocessing.Lock()\n",
    "    d = multiprocessing.Process(target=deposit, args=(balance,lock))\n",
    "    w = multiprocessing.Process(target=withdraw, args=(balance,lock))\n",
    "    d.start()\n",
    "    w.start()\n",
    "    d.join()\n",
    "    w.join()\n",
    "    print(balance.value)"
   ]
  },
  {
   "cell_type": "code",
   "execution_count": null,
   "metadata": {},
   "outputs": [],
   "source": []
  }
 ]
}